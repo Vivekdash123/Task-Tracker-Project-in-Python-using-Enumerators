{
 "cells": [
  {
   "cell_type": "code",
   "execution_count": 1,
   "id": "33f6e7eb-9fcf-4d2b-8a6d-7f0f0a8cfea6",
   "metadata": {},
   "outputs": [
    {
     "name": "stdout",
     "output_type": "stream",
     "text": [
      "Task: Complete Python Project, Status: Pending\n",
      "Task: Complete Python Project, Status: In Progress\n",
      "Task: Complete Python Project, Status: Completed\n"
     ]
    }
   ],
   "source": [
    "from enum import Enum\n",
    "\n",
    "# Step 1: Define the Enum\n",
    "class TaskStatus(Enum):\n",
    "    PENDING = 1\n",
    "    IN_PROGRESS = 2\n",
    "    COMPLETED = 3\n",
    "\n",
    "    def __str__(self):\n",
    "        return self.name.replace(\"_\", \" \").title()\n",
    "\n",
    "# Step 2: Create the Task class\n",
    "class Task:\n",
    "    def __init__(self, name):\n",
    "        self.name = name\n",
    "        self.status = TaskStatus.PENDING  # Initial status is Pending\n",
    "\n",
    "    def change_status(self, new_status):\n",
    "        if isinstance(new_status, TaskStatus):\n",
    "            self.status = new_status\n",
    "        else:\n",
    "            print(\"Invalid status.\")\n",
    "\n",
    "    def __str__(self):\n",
    "        return f\"Task: {self.name}, Status: {self.status}\"\n",
    "\n",
    "# Step 3: Simple workflow to manage tasks\n",
    "def main():\n",
    "    # Create a new task\n",
    "    task = Task(\"Complete Python Project\")\n",
    "    \n",
    "    # Display the task status\n",
    "    print(task)\n",
    "    \n",
    "    # Change status to In Progress\n",
    "    task.change_status(TaskStatus.IN_PROGRESS)\n",
    "    print(task)\n",
    "    \n",
    "    # Change status to Completed\n",
    "    task.change_status(TaskStatus.COMPLETED)\n",
    "    print(task)\n",
    "\n",
    "if __name__ == \"__main__\":\n",
    "    main()"
   ]
  }
 ],
 "metadata": {
  "kernelspec": {
   "display_name": "Python 3 (ipykernel)",
   "language": "python",
   "name": "python3"
  },
  "language_info": {
   "codemirror_mode": {
    "name": "ipython",
    "version": 3
   },
   "file_extension": ".py",
   "mimetype": "text/x-python",
   "name": "python",
   "nbconvert_exporter": "python",
   "pygments_lexer": "ipython3",
   "version": "3.12.3"
  }
 },
 "nbformat": 4,
 "nbformat_minor": 5
}
